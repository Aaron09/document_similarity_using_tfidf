{
 "cells": [
  {
   "cell_type": "code",
   "execution_count": 1,
   "metadata": {},
   "outputs": [
    {
     "name": "stdout",
     "output_type": "stream",
     "text": [
      "FUCK KABHIR\n"
     ]
    }
   ],
   "source": [
    "print(\"FUCK KABHIR\")"
   ]
  },
  {
   "cell_type": "code",
   "execution_count": 2,
   "metadata": {
    "collapsed": true
   },
   "outputs": [],
   "source": [
    "from sklearn import datasets\n",
    "from sklearn.decomposition import PCA\n",
    "\n",
    "\n",
    "# import some data to play with\n",
    "iris = datasets.load_iris()"
   ]
  },
  {
   "cell_type": "code",
   "execution_count": 1,
   "metadata": {
    "collapsed": true
   },
   "outputs": [],
   "source": [
    "tweets = ['Any artist/ Small dance teams (4-5 members) interested in performing at our next installment of #TheRenaaissance @ #CanopyClub #UIUC drop', 'Pay just $5 for $10 worth of food and drink at Station 6 Pizza #Champaign #chambana #uiuc http://deals.centralillinoissavings.com/deal/station-6-pizza-5/\\xa0…', 'Everything is pretty barren in the woods right now.  #VSCOcam #vsco #vscophile #uiuc #trails #ice… http://instagram.com/p/xaqWv0EJ9b/\\xa0', 'Because studying is for the weak.  #GoodTimes #UIUC http://instagram.com/p/wmZq4Ojemq/\\xa0', 'At #UIUC, the growth in the number of #Chinese students has been dramatic @insidehighered http://shar.es/1H8uy4\\xa0 via @sharethis', 'The Renaissance is tonight! So mount up and lets get this party jumping! Hosted by WhatMoneyKing, Kilo D. DJ http://ow.ly/G7EmW\\xa0 #uiuc', '@datsik is coming back to the Canopy Club on Feb 18th! Come and get it #uiuc http://ow.ly/G3CIg\\xa0', \"wtwtv | AKA FA'14 New Member Presentation http://ow.ly/Gl4wa\\xa0 #UIUC #IU #MSU #Mizzou #Chicago #STL #OSU\", 'wtwtv | Mizzou Delta Probate Spring 2014 http://bitly.com/12XO5YB\\xa0 #DST #Mizzou #UIUC #IOWAU #MSU #IU #ISU #SIUe ... http://bitly.com/1qG14cM\\xa0', 'ATTN #uiuc students! Who wants free subs this week? RT and follow us for a chance at a free sub during finals week!', 'wtwtv | Biggest College Party Ever Recap http://bitly.com/1z7fd4B\\xa0 #ATL #GSU #SpellHouse #IU #MSU #UIUC #MIzzou #... http://bitly.com/1z7fd4D\\xa0', 'Seen on the #uiuc #illinois campus. @ University of Illinois at Urbana-Champaign http://instagram.com/p/wpL12zLibp/\\xa0', '#squaready #VSCOcam #vscophile #uiuc #woods #trees #water #pond #lake #nature #vsco #pier #hiking http://instagram.com/p/wu4b0YkJ1l/\\xa0', '@filibustamusic will be dropping the #bass at the #canopy on Jan 22nd! http://ow.ly/GItID\\xa0 Come and get some! #uiuc', \"Hey #fightingillini! We're back @ your school & spring classes are LIVE! Join your classmates now! #UIUC #illini http://ow.ly/HzZK4\\xa0\", 'Pay only $9 for $22 worth of food and drink at Oishi Hibachi Steak House #Champaign #newyearseve #chambana #uiuc http://deals.centralillinoissavings.com/deal/oishi-hibachi-steak-house-34/\\xa0…', 'Back with the best  #oregon #iowa #uiuc #ΚΑΘ #ΓΦΒ #ΚΚΓ #ΚΔ @ pay no attn to backward crescent http://instagram.com/p/xLRRmyGrwY/\\xa0', 'Sell your event tix online with usDoing a Special all month no Charge Just Processing Fees#Uiuc… http://instagram.com/p/xsxZgRKR5v/\\xa0', 'wtwtv | Stroll Like an Alpha 2014 - WINNERS http://ow.ly/Gl6BR\\xa0 #osu #AphiA #uiuc #SLAA #chicago #mizzou #iowau', 'A perfect gift, just $30 for a 60 minute Thai massage ($60 value) at Metta Thai Bodyworks Savoy #chambana #xmas #uiuc http://deals.centralillinoissavings.com/deal/metta-thai-bodyworks-6/\\xa0…', 'This evening on the #UIUC #Illinois campus on the #quad. And a new instagram #filter! @ Main Quad http://instagram.com/p/wxwZFSriZh/\\xa0', 'Do profs have right to be cyberbullies? http://www.news-gazette.com/opinion/guest-commentary/2015-01-04/do-profs-have-right-be-cyberbullies.html\\xa0… #UIUC labor relations prof on Salaita case', 'ATTN #uiuc students! Who wants free subs this week? RT and follow us for a chance at a free sub during finals today!', 'Come and get your #jamgrass fix on Jan 29th at the #canopy! @YonderMountain with the Horse Feathers! http://ow.ly/GItto\\xa0 #uiuc #chambana', '#UIUC campus: 3-4 inches after first major snowstorm of the new year. @ Main Quad http://instagram.com/p/xhXOZ1qW1i/\\xa0']"
   ]
  },
  {
   "cell_type": "code",
   "execution_count": 2,
   "metadata": {
    "collapsed": true
   },
   "outputs": [],
   "source": [
    "l_tweets = [tweet.lower() for tweet in tweets]"
   ]
  },
  {
   "cell_type": "code",
   "execution_count": 14,
   "metadata": {
    "collapsed": true
   },
   "outputs": [],
   "source": [
    "counts = {}"
   ]
  },
  {
   "cell_type": "code",
   "execution_count": 15,
   "metadata": {
    "collapsed": true
   },
   "outputs": [],
   "source": [
    "for tweet in l_tweets:\n",
    "    for tok in tweet.split():\n",
    "        if tok[0] == '#':\n",
    "            if tok in counts:\n",
    "                counts[tok] = counts[tok] + 1\n",
    "            else:\n",
    "                counts[tok] = 1"
   ]
  },
  {
   "cell_type": "code",
   "execution_count": 22,
   "metadata": {
    "collapsed": true
   },
   "outputs": [],
   "source": [
    "k = list(counts.items())"
   ]
  },
  {
   "cell_type": "code",
   "execution_count": 23,
   "metadata": {},
   "outputs": [
    {
     "data": {
      "text/plain": [
       "[('#uiuc', 23),\n",
       " ('#chambana', 4),\n",
       " ('#mizzou', 4),\n",
       " ('#iu', 3),\n",
       " ('#msu', 3),\n",
       " ('#champaign', 2),\n",
       " ('#chicago', 2),\n",
       " ('#illinois', 2),\n",
       " ('#iowau', 2),\n",
       " ('#osu', 2),\n",
       " ('#vsco', 2),\n",
       " ('#vscocam', 2),\n",
       " ('#vscophile', 2),\n",
       " ('#...', 1),\n",
       " ('#aphia', 1),\n",
       " ('#atl', 1),\n",
       " ('#bass', 1),\n",
       " ('#canopy', 1),\n",
       " ('#canopy!', 1),\n",
       " ('#canopyclub', 1),\n",
       " ('#chinese', 1),\n",
       " ('#dst', 1),\n",
       " ('#fightingillini!', 1),\n",
       " ('#filter!', 1),\n",
       " ('#goodtimes', 1),\n",
       " ('#gsu', 1),\n",
       " ('#hiking', 1),\n",
       " ('#ice…', 1),\n",
       " ('#illini', 1),\n",
       " ('#iowa', 1),\n",
       " ('#isu', 1),\n",
       " ('#jamgrass', 1),\n",
       " ('#lake', 1),\n",
       " ('#nature', 1),\n",
       " ('#newyearseve', 1),\n",
       " ('#oregon', 1),\n",
       " ('#pier', 1),\n",
       " ('#pond', 1),\n",
       " ('#quad.', 1),\n",
       " ('#siue', 1),\n",
       " ('#slaa', 1),\n",
       " ('#spellhouse', 1),\n",
       " ('#squaready', 1),\n",
       " ('#stl', 1),\n",
       " ('#therenaaissance', 1),\n",
       " ('#trails', 1),\n",
       " ('#trees', 1),\n",
       " ('#uiuc,', 1),\n",
       " ('#water', 1),\n",
       " ('#woods', 1),\n",
       " ('#xmas', 1),\n",
       " ('#γφβ', 1),\n",
       " ('#καθ', 1),\n",
       " ('#κδ', 1),\n",
       " ('#κκγ', 1)]"
      ]
     },
     "execution_count": 23,
     "metadata": {},
     "output_type": "execute_result"
    }
   ],
   "source": [
    "hashtag_counts = sorted(k, key=lambda tup: (-tup[1],tup[0]))\n",
    "hashtag_counts"
   ]
  },
  {
   "cell_type": "code",
   "execution_count": 29,
   "metadata": {
    "collapsed": true
   },
   "outputs": [],
   "source": [
    "from scipy.sparse import csr_matrix\n",
    "import numpy as np\n",
    "row = np.array([0, 0, 1, 2, 2, 2])\n",
    "col = np.array([0, 2, 2, 0, 1, 2])\n",
    "data = np.array([1, 2, 3, 4, 5, 6])\n",
    "k = csr_matrix((data, (row, col)), shape=(3, 3))"
   ]
  },
  {
   "cell_type": "code",
   "execution_count": 30,
   "metadata": {},
   "outputs": [
    {
     "name": "stdout",
     "output_type": "stream",
     "text": [
      "  (0, 0)\t1\n",
      "  (0, 2)\t2\n",
      "  (1, 2)\t3\n",
      "  (2, 0)\t4\n",
      "  (2, 1)\t5\n",
      "  (2, 2)\t6\n"
     ]
    }
   ],
   "source": [
    "print(k)"
   ]
  },
  {
   "cell_type": "code",
   "execution_count": 34,
   "metadata": {},
   "outputs": [
    {
     "name": "stdout",
     "output_type": "stream",
     "text": [
      "{0: {2: 17, 3: 31}, 1: {3: 5}, 3: {1: 14}}\n"
     ]
    }
   ],
   "source": [
    "A = {0: {2: 17, 3: 31}, 1: {3: 5}, 3: {1: 14}}\n",
    "print(A)"
   ]
  },
  {
   "cell_type": "code",
   "execution_count": 53,
   "metadata": {
    "collapsed": true
   },
   "outputs": [],
   "source": [
    "shape = (4,4)"
   ]
  },
  {
   "cell_type": "code",
   "execution_count": 47,
   "metadata": {},
   "outputs": [],
   "source": [
    "x = np.array([1,1,1,1])\n",
    "x=x*2"
   ]
  },
  {
   "cell_type": "code",
   "execution_count": 56,
   "metadata": {},
   "outputs": [
    {
     "name": "stdout",
     "output_type": "stream",
     "text": [
      "{2: 17, 3: 31}\n",
      "{3: 5}\n",
      "{1: 14}\n"
     ]
    }
   ],
   "source": [
    "Ax = np.zeros(shape[0])\n",
    "for key in A.keys():\n",
    "    print(A[key])\n",
    "    for key2 in A[key]:\n",
    "        Ax[key] += A[key][key2]*x[key2]  "
   ]
  },
  {
   "cell_type": "code",
   "execution_count": 57,
   "metadata": {},
   "outputs": [
    {
     "data": {
      "text/plain": [
       "array([ 96.,  10.,   0.,  28.])"
      ]
     },
     "execution_count": 57,
     "metadata": {},
     "output_type": "execute_result"
    }
   ],
   "source": [
    "Ax"
   ]
  },
  {
   "cell_type": "code",
   "execution_count": null,
   "metadata": {
    "collapsed": true
   },
   "outputs": [],
   "source": []
  }
 ],
 "metadata": {
  "kernelspec": {
   "display_name": "Python 3",
   "language": "python",
   "name": "python3"
  },
  "language_info": {
   "codemirror_mode": {
    "name": "ipython",
    "version": 3
   },
   "file_extension": ".py",
   "mimetype": "text/x-python",
   "name": "python",
   "nbconvert_exporter": "python",
   "pygments_lexer": "ipython3",
   "version": "3.5.2"
  }
 },
 "nbformat": 4,
 "nbformat_minor": 2
}
